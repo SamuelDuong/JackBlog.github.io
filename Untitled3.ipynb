{
  "nbformat": 4,
  "nbformat_minor": 0,
  "metadata": {
    "colab": {
      "provenance": []
    },
    "kernelspec": {
      "name": "python3",
      "display_name": "Python 3"
    },
    "language_info": {
      "name": "python"
    }
  },
  "cells": [
    {
      "cell_type": "markdown",
      "source": [
        "# **Music Recommendation System using Spotify API and Python**"
      ],
      "metadata": {
        "id": "FsWzEVfLZPSf"
      }
    },
    {
      "cell_type": "markdown",
      "source": [
        "## How Does a Music Recommendation System Work?"
      ],
      "metadata": {
        "id": "6ZF6sVxyZezG"
      }
    },
    {
      "cell_type": "markdown",
      "source": [
        "Music Recommendation Systems operate through intricate algorithms that analyze vast amounts of data about users’ musical interactions, such as their listening history, liked tracks, skipped songs, and even explicit user preferences conveyed through ratings or feedback. These data points are instrumental in constructing comprehensive user profiles, delineating individual tastes and preferences.\n",
        "\n",
        "In the initial phase, the system employs various data preprocessing techniques to cleanse and organize the information efficiently. Subsequently, the system uses recommendation algorithms, such as collaborative filtering, content-based filtering, and hybrid approaches, to generate music recommendations.\n",
        "\n",
        "As users continually interact with the system, it accumulates additional data, refining and updating their profiles in real time. Consequently, the recommendations become increasingly precise and aligned with the user’s evolving musical preferences.\n"
      ],
      "metadata": {
        "id": "y7-S93fLZY-K"
      }
    },
    {
      "cell_type": "markdown",
      "source": [
        "## What is Spotify API & How to build a Music Recommendation System using Spotify API?\n",
        "The Spotify API is a set of rules and protocols provided by Spotify developers. It enables developers to interact with Spotify’s vast music catalogue and collect music-related data. Through the Spotify API, developers can access information such as tracks, albums, artists, playlists, user profiles, and play history, among other features, empowering them to build innovative applications and services that integrate seamlessly with the Spotify platform.\n",
        "\n",
        "To build a Music Recommendation System using the Spotify API, we are required to collect real-time music data from Spotify. For this task, we need a Spotify developer account to get our credentials from Spotify to access their data."
      ],
      "metadata": {
        "id": "7iX2fd1GZn7E"
      }
    },
    {
      "cell_type": "markdown",
      "source": [
        "### To get started with building a Music Recommendation System, we first need to have an access token. The access token serves as a temporary authorization credential, allowing the code to make authenticated requests to the Spotify API on behalf of the application"
      ],
      "metadata": {
        "id": "dQ8XD4eAZwBB"
      }
    },
    {
      "cell_type": "code",
      "source": [
        "import requests\n",
        "import base64\n",
        "\n",
        "# Replace with your own Client ID and Client Secret\n",
        "CLIENT_ID = 'your_client_id'\n",
        "CLIENT_SECRET = 'your_client_secret'\n",
        "\n",
        "# Base64 encode the client ID and client secret\n",
        "client_credentials = f\"{CLIENT_ID}:{CLIENT_SECRET}\"\n",
        "client_credentials_base64 = base64.b64encode(client_credentials.encode())\n",
        "\n",
        "# Request the access token\n",
        "token_url = 'https://accounts.spotify.com/api/token'\n",
        "headers = {\n",
        "    'Authorization': f'Basic {client_credentials_base64.decode()}'\n",
        "}\n",
        "data = {\n",
        "    'grant_type': 'client_credentials'\n",
        "}\n",
        "response = requests.post(token_url, data=data, headers=headers)\n",
        "\n",
        "if response.status_code == 200:\n",
        "    access_token = response.json()['access_token']\n",
        "    print(\"Access token obtained successfully.\")\n",
        "else:\n",
        "    print(\"Error obtaining access token.\")\n",
        "    exit()\n"
      ],
      "metadata": {
        "id": "Ar9s7fBUam7p"
      },
      "execution_count": null,
      "outputs": []
    },
    {
      "cell_type": "markdown",
      "source": [
        "Access token obtained successfully."
      ],
      "metadata": {
        "id": "3kuSq3uAarOx"
      }
    },
    {
      "cell_type": "markdown",
      "source": [
        "Now we’ll write a function to get music data from any playlist on Spotify. For this task, we need to install the Spotipy library, which is a Python library providing access to Spotify’s web API."
      ],
      "metadata": {
        "id": "pTRbdI62a0DP"
      }
    },
    {
      "cell_type": "code",
      "execution_count": 1,
      "metadata": {
        "colab": {
          "base_uri": "https://localhost:8080/"
        },
        "id": "xcZUEw3aZIY1",
        "outputId": "e6557eb4-1df6-4357-9425-fd5ef189a1b7"
      },
      "outputs": [
        {
          "output_type": "stream",
          "name": "stdout",
          "text": [
            "Collecting spotipy\n",
            "  Downloading spotipy-2.23.0-py3-none-any.whl (29 kB)\n",
            "Collecting redis>=3.5.3 (from spotipy)\n",
            "  Downloading redis-5.0.4-py3-none-any.whl (251 kB)\n",
            "\u001b[2K     \u001b[90m━━━━━━━━━━━━━━━━━━━━━━━━━━━━━━━━━━━━━━━━\u001b[0m \u001b[32m252.0/252.0 kB\u001b[0m \u001b[31m3.5 MB/s\u001b[0m eta \u001b[36m0:00:00\u001b[0m\n",
            "\u001b[?25hRequirement already satisfied: requests>=2.25.0 in /usr/local/lib/python3.10/dist-packages (from spotipy) (2.31.0)\n",
            "Requirement already satisfied: six>=1.15.0 in /usr/local/lib/python3.10/dist-packages (from spotipy) (1.16.0)\n",
            "Requirement already satisfied: urllib3>=1.26.0 in /usr/local/lib/python3.10/dist-packages (from spotipy) (2.0.7)\n",
            "Requirement already satisfied: async-timeout>=4.0.3 in /usr/local/lib/python3.10/dist-packages (from redis>=3.5.3->spotipy) (4.0.3)\n",
            "Requirement already satisfied: charset-normalizer<4,>=2 in /usr/local/lib/python3.10/dist-packages (from requests>=2.25.0->spotipy) (3.3.2)\n",
            "Requirement already satisfied: idna<4,>=2.5 in /usr/local/lib/python3.10/dist-packages (from requests>=2.25.0->spotipy) (3.7)\n",
            "Requirement already satisfied: certifi>=2017.4.17 in /usr/local/lib/python3.10/dist-packages (from requests>=2.25.0->spotipy) (2024.2.2)\n",
            "Installing collected packages: redis, spotipy\n",
            "Successfully installed redis-5.0.4 spotipy-2.23.0\n"
          ]
        }
      ],
      "source": [
        "pip install spotipy # install the Spotipy library, which is a Python library providing access to Spotify’s web API."
      ]
    },
    {
      "cell_type": "code",
      "source": [
        "import pandas as pd\n",
        "import spotipy\n",
        "from spotipy.oauth2 import SpotifyOAuth\n",
        "\n",
        "def get_trending_playlist_data(playlist_id, access_token):\n",
        "    # Set up Spotipy with the access token\n",
        "    sp = spotipy.Spotify(auth=access_token)\n",
        "\n",
        "    # Get the tracks from the playlist\n",
        "    playlist_tracks = sp.playlist_tracks(playlist_id, fields='items(track(id, name, artists, album(id, name)))')\n",
        "\n",
        "    # Extract relevant information and store in a list of dictionaries\n",
        "    music_data = []\n",
        "    for track_info in playlist_tracks['items']:\n",
        "        track = track_info['track']\n",
        "        track_name = track['name']\n",
        "        artists = ', '.join([artist['name'] for artist in track['artists']])\n",
        "        album_name = track['album']['name']\n",
        "        album_id = track['album']['id']\n",
        "        track_id = track['id']\n",
        "\n",
        "        # Get audio features for the track\n",
        "        audio_features = sp.audio_features(track_id)[0] if track_id != 'Not available' else None\n",
        "\n",
        "        # Get release date of the album\n",
        "        try:\n",
        "            album_info = sp.album(album_id) if album_id != 'Not available' else None\n",
        "            release_date = album_info['release_date'] if album_info else None\n",
        "        except:\n",
        "            release_date = None\n",
        "\n",
        "        # Get popularity of the track\n",
        "        try:\n",
        "            track_info = sp.track(track_id) if track_id != 'Not available' else None\n",
        "            popularity = track_info['popularity'] if track_info else None\n",
        "        except:\n",
        "            popularity = None\n",
        "\n",
        "        # Add additional track information to the track data\n",
        "        track_data = {\n",
        "            'Track Name': track_name,\n",
        "            'Artists': artists,\n",
        "            'Album Name': album_name,\n",
        "            'Album ID': album_id,\n",
        "            'Track ID': track_id,\n",
        "            'Popularity': popularity,\n",
        "            'Release Date': release_date,\n",
        "            'Duration (ms)': audio_features['duration_ms'] if audio_features else None,\n",
        "            'Explicit': track_info.get('explicit', None),\n",
        "            'External URLs': track_info.get('external_urls', {}).get('spotify', None),\n",
        "            'Danceability': audio_features['danceability'] if audio_features else None,\n",
        "            'Energy': audio_features['energy'] if audio_features else None,\n",
        "            'Key': audio_features['key'] if audio_features else None,\n",
        "            'Loudness': audio_features['loudness'] if audio_features else None,\n",
        "            'Mode': audio_features['mode'] if audio_features else None,\n",
        "            'Speechiness': audio_features['speechiness'] if audio_features else None,\n",
        "            'Acousticness': audio_features['acousticness'] if audio_features else None,\n",
        "            'Instrumentalness': audio_features['instrumentalness'] if audio_features else None,\n",
        "            'Liveness': audio_features['liveness'] if audio_features else None,\n",
        "            'Valence': audio_features['valence'] if audio_features else None,\n",
        "            'Tempo': audio_features['tempo'] if audio_features else None,\n",
        "            # Add more attributes as needed\n",
        "        }\n",
        "\n",
        "        music_data.append(track_data)\n",
        "\n",
        "    # Create a pandas DataFrame from the list of dictionaries\n",
        "    df = pd.DataFrame(music_data)\n",
        "\n",
        "    return df"
      ],
      "metadata": {
        "id": "IT1_P9lwaG09"
      },
      "execution_count": null,
      "outputs": []
    },
    {
      "cell_type": "markdown",
      "source": [
        "The function begins by initializing the Spotipy client with the provided access_token, which serves as the authentication token to interact with the Spotify Web API. The access_token allows the function to make authorized requests to access Spotify’s resources. The function then uses the Spotipy client to fetch information about the tracks in the specified playlist (identified by its playlist_id). The sp.playlist_tracks method retrieves the playlist tracks. The fields parameter is used to specify the specific track information that is required, such as track ID, name, artists, album ID, and album name.\n",
        "\n",
        "The function then extracts relevant information from the retrieved playlist tracks and stores it in a list of dictionaries called music_data. For each track in the playlist, the function extracts data such as track name, artists (combined into a single string), album name, album ID, track ID, and popularity. The function uses the sp.audio_features method to fetch audio features for each track in the playlist. These audio features include attributes like danceability, energy, key, loudness, speechiness, acousticness, instrumentalness, liveness, valence, tempo, etc. These audio features provide insights into the characteristics of each track.\n",
        "\n",
        "The extracted information for all tracks is stored in the music_data list. The function then creates a DataFrame from the music_data list. The DataFrame organizes the music data in a tabular format, making it easier to analyze and work with the collected information."
      ],
      "metadata": {
        "id": "E5I4-PlmaX0O"
      }
    },
    {
      "cell_type": "markdown",
      "source": [
        "Now, here’s how we can use the function to collect music data from any playlist on Spotify:"
      ],
      "metadata": {
        "id": "EKvPe6LxaZyW"
      }
    },
    {
      "cell_type": "code",
      "source": [
        "playlist_id = '37i9dQZF1DX76Wlfdnj7AP'\n",
        "\n",
        "# Call the function to get the music data from the playlist and store it in a DataFrame\n",
        "music_df = get_trending_playlist_data(playlist_id, access_token)\n",
        "\n",
        "# Display the DataFrame\n",
        "print(music_df)"
      ],
      "metadata": {
        "id": "dXzMBwUwadE2"
      },
      "execution_count": null,
      "outputs": []
    },
    {
      "cell_type": "markdown",
      "source": [
        "\n",
        "\n",
        "```\n",
        "                               Track Name  \\\n",
        "0                         I'm Good (Blue)   \n",
        "1                      Boy's a Liar Pt. 2   \n",
        "2   Quevedo: Bzrp Music Sessions, Vol. 52   \n",
        "3                         Me Porto Bonito   \n",
        "4                             El Merengue   \n",
        "..                                    ...   \n",
        "95                       PLAYA DEL INGLÉS   \n",
        "96                   Lionheart (Fearless)   \n",
        "97      family ties (with Kendrick Lamar)   \n",
        "98                   Marianela (Que Pasa)   \n",
        "99              Levitating (feat. DaBaby)   \n",
        "\n",
        "                                     Artists  \\\n",
        "0                   David Guetta, Bebe Rexha   \n",
        "1                  PinkPantheress, Ice Spice   \n",
        "2                          Bizarrap, Quevedo   \n",
        "3                Bad Bunny, Chencho Corleone   \n",
        "4                  Marshmello, Manuel Turizo   \n",
        "..                                       ...   \n",
        "95                      Quevedo, Myke Towers   \n",
        "96                   Joel Corry, Tom Grennan   \n",
        "97                 Baby Keem, Kendrick Lamar   \n",
        "98  HUGEL, Merk & Kremont, Lirico En La Casa   \n",
        "99                          Dua Lipa, DaBaby   \n",
        "\n",
        "                               Album Name                Album ID  \\\n",
        "0                         I'm Good (Blue)  7M842DMhYVALrXsw3ty7B3   \n",
        "1                      Boy's a liar Pt. 2  6cVfHBcp3AdpYY0bBglkLN   \n",
        "2   Quevedo: Bzrp Music Sessions, Vol. 52  4PNqWiJAfjj32hVvlchV5u   \n",
        "3                        Un Verano Sin Ti  3RQQmkQEvNCY4prGKE6oc5   \n",
        "4                             El Merengue  6sU751LOdNBPvVErW1GunP   \n",
        "..                                    ...                     ...   \n",
        "95                       PLAYA DEL INGLÉS  1MgW79L1nRyxWHOCu4nxR9   \n",
        "96                   Lionheart (Fearless)  68U7caniDmdQHifJdnlYFT   \n",
        "97      family ties (with Kendrick Lamar)  3HqmX8hGcbbQZODgayNEYx   \n",
        "98                   Marianela (Que Pasa)  5As1VmPUMn4HIgYSbFD6l0   \n",
        "99              Levitating (feat. DaBaby)  04m06KhJUuwe1Q487puIud   \n",
        "\n",
        "                  Track ID  Popularity Release Date  Duration (ms)  Explicit  \\\n",
        "0   4uUG5RXrOk84mYEfFvj3cK          95   2022-08-26         175238      True   \n",
        "1   6AQbmUe0Qwf5PZnt4HmTXv          94   2023-02-03         131013     False   \n",
        "2   2tTmW7RDtMQtBk7m2rYeSw          93   2022-07-06         198938     False   \n",
        "3   6Sq7ltF9Qa7SNFBsV5Cogx          92   2022-05-06         178567      True   \n",
        "4   51FvjPEGKq2zByeeEQ43V9          92   2023-03-03         189357     False   \n",
        "..                     ...         ...          ...            ...       ...   \n",
        "95  2t6IxTASaSFkZEt61tQ6W6          78   2022-12-15         237525     False   \n",
        "96  5vlzH0ps6WDyb158oFTAb3          77   2022-10-21         186689     False   \n",
        "97  7Bpx2vsWfQFBACRz4h3IqH          77   2021-08-27         252070      True   \n",
        "98  5bZjb7xKqLqa58QiUBcVvl          77   2022-11-25         145766     False   \n",
        "99  463CkQjx2Zk1yXoBuierM9          77   2020-10-01         203064     False   \n",
        "\n",
        "                                        External URLs  ...  Energy  Key  \\\n",
        "0   https://open.spotify.com/track/4uUG5RXrOk84mYE...  ...   0.965    7   \n",
        "1   https://open.spotify.com/track/6AQbmUe0Qwf5PZn...  ...   0.809    5   \n",
        "2   https://open.spotify.com/track/2tTmW7RDtMQtBk7...  ...   0.782    2   \n",
        "3   https://open.spotify.com/track/6Sq7ltF9Qa7SNFB...  ...   0.712    1   \n",
        "4   https://open.spotify.com/track/51FvjPEGKq2zBye...  ...   0.677    8   \n",
        "..                                                ...  ...     ...  ...   \n",
        "95  https://open.spotify.com/track/2t6IxTASaSFkZEt...  ...   0.736    7   \n",
        "96  https://open.spotify.com/track/5vlzH0ps6WDyb15...  ...   0.967    8   \n",
        "97  https://open.spotify.com/track/7Bpx2vsWfQFBACR...  ...   0.611    1   \n",
        "98  https://open.spotify.com/track/5bZjb7xKqLqa58Q...  ...   0.893    1   \n",
        "99  https://open.spotify.com/track/463CkQjx2Zk1yXo...  ...   0.825    6   \n",
        "\n",
        "    Loudness  Mode  Speechiness  Acousticness  Instrumentalness  Liveness  \\\n",
        "0     -3.673     0       0.0343       0.00383          0.000007    0.3710   \n",
        "1     -8.254     1       0.0500       0.25200          0.000128    0.2480   \n",
        "2     -5.548     1       0.0440       0.01250          0.033000    0.2300   \n",
        "3     -5.105     0       0.0817       0.09010          0.000027    0.0933   \n",
        "4     -4.703     0       0.0442       0.03130          0.005170    0.1120   \n",
        "..       ...   ...          ...           ...               ...       ...   \n",
        "95    -3.254     0       0.0469       0.08220          0.000000    0.1090   \n",
        "96    -2.430     1       0.0538       0.02170          0.001570    0.3360   \n",
        "97    -5.453     1       0.3290       0.00575          0.000000    0.2310   \n",
        "98    -3.344     1       0.0496       0.03300          0.005350    0.0811   \n",
        "99    -3.787     0       0.0601       0.00883          0.000000    0.0674   \n",
        "\n",
        "    Valence    Tempo  \n",
        "0     0.304  128.040  \n",
        "1     0.857  132.962  \n",
        "2     0.550  128.033  \n",
        "3     0.425   92.005  \n",
        "4     0.698  124.011  \n",
        "..      ...      ...  \n",
        "95    0.656  112.993  \n",
        "96    0.349  125.982  \n",
        "97    0.144  134.140  \n",
        "98    0.602  124.043  \n",
        "99    0.915  102.977  \n",
        "\n",
        "[100 rows x 21 columns]\n",
        "```\n",
        "\n",
        "\n",
        "\n",
        "\n",
        "\n"
      ],
      "metadata": {
        "id": "Zb-ABQNLa_gv"
      }
    },
    {
      "cell_type": "markdown",
      "source": [
        "In this code snippet, we used a playlist ID: **“37i9dQZF1DX76Wlfdnj7AP”**. The code then calls the get_trending_playlist_data function to extract music data from the specified playlist using the provided access_token. The collected music data is stored in a DataFrame named music_df. Finally, the code prints the DataFrame to display the extracted music data."
      ],
      "metadata": {
        "id": "GqQQ1-OabElc"
      }
    },
    {
      "cell_type": "markdown",
      "source": [
        "Now, let’s move further to building a music recommendation system using Python. Let’s import the necessary Python libraries now:"
      ],
      "metadata": {
        "id": "zlxwlVL4bHiM"
      }
    },
    {
      "cell_type": "code",
      "source": [
        "import pandas as pd\n",
        "import numpy as np\n",
        "from sklearn.model_selection import train_test_split\n",
        "from sklearn.preprocessing import MinMaxScaler\n",
        "from datetime import datetime\n",
        "from sklearn.metrics.pairwise import cosine_similarity\n",
        "\n",
        "data = music_df"
      ],
      "metadata": {
        "id": "fFhVMBLbbJIF"
      },
      "execution_count": null,
      "outputs": []
    },
    {
      "cell_type": "markdown",
      "source": [
        "While providing music recommendations to users, it is important to recommend the latest releases. For this, we need to give more weight to the latest releases in the recommendations. Let’s write a function to solve this problem:"
      ],
      "metadata": {
        "id": "IZNX_MFJbROf"
      }
    },
    {
      "cell_type": "code",
      "source": [
        "# Function to calculate weighted popularity scores based on release date\n",
        "def calculate_weighted_popularity(release_date):\n",
        "    # Convert the release date to datetime object\n",
        "    release_date = datetime.strptime(release_date, '%Y-%m-%d')\n",
        "\n",
        "    # Calculate the time span between release date and today's date\n",
        "    time_span = datetime.now() - release_date\n",
        "\n",
        "    # Calculate the weighted popularity score based on time span (e.g., more recent releases have higher weight)\n",
        "    weight = 1 / (time_span.days + 1)\n",
        "    return weight"
      ],
      "metadata": {
        "id": "jnLom46sbS0C"
      },
      "execution_count": null,
      "outputs": []
    },
    {
      "cell_type": "markdown",
      "source": [
        "We will create a hybrid recommendation system for music recommendations. The first approach will be based on recommending music based on music audio features, and the second approach will be based on recommending music based on weighted popularity.\n",
        "\n",
        "Here’s how to generate music recommendations based on the music audio features:"
      ],
      "metadata": {
        "id": "CY_vBW9CbXdK"
      }
    },
    {
      "cell_type": "code",
      "source": [
        "# a function to get content-based recommendations based on music features\n",
        "def content_based_recommendations(input_song_name, num_recommendations=5):\n",
        "    if input_song_name not in music_df['Track Name'].values:\n",
        "        print(f\"'{input_song_name}' not found in the dataset. Please enter a valid song name.\")\n",
        "        return\n",
        "\n",
        "    # Get the index of the input song in the music DataFrame\n",
        "    input_song_index = music_df[music_df['Track Name'] == input_song_name].index[0]\n",
        "\n",
        "    # Calculate the similarity scores based on music features (cosine similarity)\n",
        "    similarity_scores = cosine_similarity([music_features_scaled[input_song_index]], music_features_scaled)\n",
        "\n",
        "    # Get the indices of the most similar songs\n",
        "    similar_song_indices = similarity_scores.argsort()[0][::-1][1:num_recommendations + 1]\n",
        "\n",
        "    # Get the names of the most similar songs based on content-based filtering\n",
        "    content_based_recommendations = music_df.iloc[similar_song_indices][['Track Name', 'Artists', 'Album Name', 'Release Date', 'Popularity']]\n",
        "\n",
        "    return content_based_recommendations"
      ],
      "metadata": {
        "id": "CC3mZz6AbZoj"
      },
      "execution_count": null,
      "outputs": []
    },
    {
      "cell_type": "markdown",
      "source": [
        "Now here’s the function to generate music recommendations based on weighted popularity and combine it with the recommendations of the content-based filtering method using the hybrid approach:\n"
      ],
      "metadata": {
        "id": "bPietm_dbdrA"
      }
    },
    {
      "cell_type": "code",
      "source": [
        "# a function to get hybrid recommendations based on weighted popularity\n",
        "def hybrid_recommendations(input_song_name, num_recommendations=5, alpha=0.5):\n",
        "    if input_song_name not in music_df['Track Name'].values:\n",
        "        print(f\"'{input_song_name}' not found in the dataset. Please enter a valid song name.\")\n",
        "        return\n",
        "\n",
        "    # Get content-based recommendations\n",
        "    content_based_rec = content_based_recommendations(input_song_name, num_recommendations)\n",
        "\n",
        "    # Get the popularity score of the input song\n",
        "    popularity_score = music_df.loc[music_df['Track Name'] == input_song_name, 'Popularity'].values[0]\n",
        "\n",
        "    # Calculate the weighted popularity score\n",
        "    weighted_popularity_score = popularity_score * calculate_weighted_popularity(music_df.loc[music_df['Track Name'] == input_song_name, 'Release Date'].values[0])\n",
        "\n",
        "    # Combine content-based and popularity-based recommendations based on weighted popularity\n",
        "    hybrid_recommendations = content_based_rec\n",
        "    hybrid_recommendations = hybrid_recommendations.append({\n",
        "        'Track Name': input_song_name,\n",
        "        'Artists': music_df.loc[music_df['Track Name'] == input_song_name, 'Artists'].values[0],\n",
        "        'Album Name': music_df.loc[music_df['Track Name'] == input_song_name, 'Album Name'].values[0],\n",
        "        'Release Date': music_df.loc[music_df['Track Name'] == input_song_name, 'Release Date'].values[0],\n",
        "        'Popularity': weighted_popularity_score\n",
        "    }, ignore_index=True)\n",
        "\n",
        "    # Sort the hybrid recommendations based on weighted popularity score\n",
        "    hybrid_recommendations = hybrid_recommendations.sort_values(by='Popularity', ascending=False)\n",
        "\n",
        "    # Remove the input song from the recommendations\n",
        "    hybrid_recommendations = hybrid_recommendations[hybrid_recommendations['Track Name'] != input_song_name]\n",
        "\n",
        "\n",
        "    return hybrid_recommendations"
      ],
      "metadata": {
        "id": "KkPoR6Ngbg3M"
      },
      "execution_count": null,
      "outputs": []
    },
    {
      "cell_type": "markdown",
      "source": [
        "**Explanation:** The hybrid approach aims to provide more personalized and relevant recommendations by considering both the content similarity of songs and their weighted popularity. The function takes input_song_name as the input, representing the name of the song for which recommendations are to be generated. The function first calls the content_based_recommendations function to get content-based recommendations for the input song. The num_recommendations parameter determines the number of content-based recommendations to be retrieved.\n",
        "\n",
        "The function calculates the popularity score of the input song by retrieving the popularity value from the music_df DataFrame. It also calculates the weighted popularity score using the calculate_weighted_popularity function (previously defined) based on the release date of the input song. The alpha parameter controls the relative importance of content-based and popularity-based recommendations.\n",
        "\n",
        "The content-based recommendations obtained earlier are stored in the content_based_rec DataFrame. The function combines the content-based recommendations with the input song’s information (track name, artists, album name, release date, and popularity) and its weighted popularity score. This step creates a DataFrame named hybrid_recommendations that includes both the content-based recommendations and the input song’s data.\n",
        "\n",
        "The hybrid_recommendations DataFrame is then sorted in descending order based on the weighted popularity score. This step ensures that the most popular and relevant songs appear at the top of the recommendations. The input song is then removed from the recommendations to avoid suggesting the same song as part of the recommendations."
      ],
      "metadata": {
        "id": "Nb7p4emxblpy"
      }
    },
    {
      "cell_type": "markdown",
      "source": [
        "Now we can test the final function to generate music recommendations:"
      ],
      "metadata": {
        "id": "rY0CwP0QbrS4"
      }
    },
    {
      "cell_type": "markdown",
      "source": [
        "\n",
        "\n",
        "```\n",
        "Hybrid recommended songs for 'I'm Good (Blue)':\n",
        "                       Track Name                                     Artists  \\\n",
        "0                           REACT  Switch Disco, Ella Henderson, Robert Miles   \n",
        "2                    Call It Love                     Felix Jaehn, Ray Dalton   \n",
        "4  Where Did You Go? (feat. MNEK)                             Jax Jones, MNEK   \n",
        "1                   Where You Are                          John Summit, Hayla   \n",
        "3           Rainfall (Praise You)                                   Tom Santa   \n",
        "\n",
        "                      Album Name Release Date  Popularity  \n",
        "0                          REACT   2023-01-13        84.0  \n",
        "2                   Call It Love   2022-09-16        84.0  \n",
        "4  Where Did You Go (feat. MNEK)   2022-02-04        81.0  \n",
        "1                  Where You Are   2023-03-03        80.0  \n",
        "3          Rainfall (Praise You)   2022-02-18        78.0  \n",
        "```\n",
        "\n"
      ],
      "metadata": {
        "id": "4t8ciaGTbw9u"
      }
    },
    {
      "cell_type": "markdown",
      "source": [
        "## ** Summary**\n",
        "A Music Recommendation System is an application of Data Science that aims to assist users in discovering new and relevant musical content based on their preferences and listening behaviour. Personalized music recommendations have become an essential tool in the digital music landscape, enabling music streaming platforms like Spotify and Apple Music to offer personalized and engaging experiences to their users."
      ],
      "metadata": {
        "id": "N0Ds0CO3b2E2"
      }
    }
  ]
}